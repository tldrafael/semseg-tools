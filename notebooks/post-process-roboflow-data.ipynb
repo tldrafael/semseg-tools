{
 "cells": [
  {
   "cell_type": "code",
   "execution_count": 1,
   "id": "5b808dd8-81af-4316-988c-67dc3757cf4f",
   "metadata": {},
   "outputs": [
    {
     "name": "stderr",
     "output_type": "stream",
     "text": [
      "/usr/local/lib/python3.10/dist-packages/tqdm/auto.py:21: TqdmWarning: IProgress not found. Please update jupyter and ipywidgets. See https://ipywidgets.readthedocs.io/en/stable/user_install.html\n",
      "  from .autonotebook import tqdm as notebook_tqdm\n"
     ]
    }
   ],
   "source": [
    "import numpy as np\n",
    "import matplotlib.pyplot as plt\n",
    "from PIL import Image\n",
    "import pandas as pd\n",
    "from glob import iglob\n",
    "import re\n",
    "from datetime import datetime\n",
    "import random\n",
    "import cv2\n",
    "from copy import copy\n",
    "from importlib import reload\n",
    "from glob import iglob\n",
    "import os\n",
    "import shutil\n",
    "\n",
    "from src import utils as ut"
   ]
  },
  {
   "cell_type": "code",
   "execution_count": null,
   "id": "4bae4d95-7a8b-4fed-85f8-b77a56bfe4d3",
   "metadata": {
    "scrolled": true
   },
   "outputs": [],
   "source": [
    "!pip install roboflow\n",
    "\n",
    "from roboflow import Roboflow\n",
    "\n",
    "API_KEY = \"XXXXXXXX\"\n",
    "rf = Roboflow(api_key=API_KEY)\n",
    "\n",
    "project = rf.workspace(\"ufsc-onwy0\").project(\"lapix-roadobjsegmentation-v2\")\n",
    "version = project.version(1)\n",
    "dataset = version.download(\"coco-segmentation\")"
   ]
  },
  {
   "cell_type": "code",
   "execution_count": 3,
   "id": "34f386a0-427e-4757-8ae1-0643a46dfe13",
   "metadata": {},
   "outputs": [
    {
     "name": "stdout",
     "output_type": "stream",
     "text": [
      "loading annotations into memory...\n",
      "Done (t=0.01s)\n",
      "creating index...\n",
      "index created!\n",
      "[0, 1, 2, 3, 4, 5, 6, 7, 8, 9, 10, 11, 12, 13, 14, 15, 16]\n"
     ]
    }
   ],
   "source": [
    "from pycocotools.coco import COCO\n",
    "\n",
    "# cocofile = 'lapix-RoadObjSegmentation-v2-1/train/_annotations.coco.json'\n",
    "cocofile = 'lapix-RoadObjSegmentation-v2-1/test/_annotations.coco.json'\n",
    "\n",
    "dirbase = os.path.dirname(cocofile)\n",
    "coco = COCO(cocofile)\n",
    "processor = ut.CocoProcessor(coco)\n",
    "cat_ids = coco.getCatIds()\n",
    "print(cat_ids)"
   ]
  },
  {
   "cell_type": "code",
   "execution_count": 4,
   "id": "c13feb4d-eccf-40e7-9176-760d5e4c44b2",
   "metadata": {},
   "outputs": [],
   "source": [
    "for ix in [*coco.imgs.keys()][:]:\n",
    "    gt = processor.mask_from_cocoim(ix)\n",
    "    # print(np.unique(mask))\n",
    "\n",
    "    bname = coco.imgs[ix]['file_name']\n",
    "    p = os.path.join(dirbase, bname)\n",
    "    setname = p.split('/')[-2]\n",
    "    newp = os.path.join('ds-mocamba-v0.2', setname, 'im', os.path.basename(p))\n",
    "    ut.create_dirpath_ifneeded(newp)\n",
    "    shutil.copy(p, newp)\n",
    "    \n",
    "    newpgt = ut.get_gtpath(newp)\n",
    "    ut.create_dirpath_ifneeded(newpgt)\n",
    "    cv2.imwrite(newpgt, gt)"
   ]
  },
  {
   "cell_type": "markdown",
   "id": "46dfc5d1-1ba3-49d7-96cb-d8fda66d3b74",
   "metadata": {},
   "source": [
    "# Resize images"
   ]
  },
  {
   "cell_type": "code",
   "execution_count": 32,
   "id": "79ccea25-d475-4059-955e-f740930fd8d3",
   "metadata": {},
   "outputs": [
    {
     "name": "stdout",
     "output_type": "stream",
     "text": [
      "357\n"
     ]
    }
   ],
   "source": [
    "fpaths = list(iglob('ds-mocamba-v0.2/**/*.jpg', recursive=True))\n",
    "print(len(fpaths))"
   ]
  },
  {
   "cell_type": "code",
   "execution_count": 33,
   "id": "daa2a3e1-7e10-4ae0-ade5-2737b3e44f39",
   "metadata": {},
   "outputs": [],
   "source": [
    "get_newpath = lambda p: p.replace('ds-mocamba-v0.2/', 'ds-mocamba-v0.2-long1024/')\n",
    "\n",
    "for p in fpaths[:]:    \n",
    "    # if os.path.exists(newp):\n",
    "    #     continue\n",
    "    \n",
    "    im = cv2.imread(p, cv2.IMREAD_UNCHANGED)\n",
    "    newim = ut.resize_im(im)\n",
    "    newp = get_newpath(p)\n",
    "    ut.create_dirpath_ifneeded(newp)\n",
    "    cv2.imwrite(newp, newim)\n",
    "\n",
    "    pgt = ut.get_gtpath(p)\n",
    "    gt = cv2.imread(pgt, cv2.IMREAD_UNCHANGED)\n",
    "    newgt = ut.resize_im(gt, inter_nearest=True)\n",
    "    newpgt = get_newpath(pgt)\n",
    "    ut.create_dirpath_ifneeded(newpgt)\n",
    "    cv2.imwrite(newpgt, newgt)"
   ]
  },
  {
   "cell_type": "code",
   "execution_count": 34,
   "id": "95020c68-c6c7-41fa-9acd-faddfa62d7f7",
   "metadata": {},
   "outputs": [
    {
     "name": "stdout",
     "output_type": "stream",
     "text": [
      "ACABOU!\n"
     ]
    }
   ],
   "source": [
    "print(\"ACABOU!\")"
   ]
  }
 ],
 "metadata": {
  "kernelspec": {
   "display_name": "Python 3 (ipykernel)",
   "language": "python",
   "name": "python3"
  },
  "language_info": {
   "codemirror_mode": {
    "name": "ipython",
    "version": 3
   },
   "file_extension": ".py",
   "mimetype": "text/x-python",
   "name": "python",
   "nbconvert_exporter": "python",
   "pygments_lexer": "ipython3",
   "version": "3.10.6"
  }
 },
 "nbformat": 4,
 "nbformat_minor": 5
}
