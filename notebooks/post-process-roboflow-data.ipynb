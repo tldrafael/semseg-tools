{
 "cells": [
  {
   "cell_type": "code",
   "execution_count": 1,
   "id": "5b808dd8-81af-4316-988c-67dc3757cf4f",
   "metadata": {},
   "outputs": [
    {
     "name": "stderr",
     "output_type": "stream",
     "text": [
      "/usr/local/lib/python3.10/dist-packages/tqdm/auto.py:21: TqdmWarning: IProgress not found. Please update jupyter and ipywidgets. See https://ipywidgets.readthedocs.io/en/stable/user_install.html\n",
      "  from .autonotebook import tqdm as notebook_tqdm\n"
     ]
    }
   ],
   "source": [
    "import numpy as np\n",
    "import matplotlib.pyplot as plt\n",
    "from PIL import Image\n",
    "import pandas as pd\n",
    "from glob import iglob\n",
    "import re\n",
    "from datetime import datetime\n",
    "import random\n",
    "import cv2\n",
    "from copy import copy\n",
    "from importlib import reload\n",
    "from glob import iglob\n",
    "import os\n",
    "import shutil\n",
    "\n",
    "import sys\n",
    "sys.path.append('..')\n",
    "from src import utils as ut"
   ]
  },
  {
   "cell_type": "code",
   "execution_count": 3,
   "id": "4bae4d95-7a8b-4fed-85f8-b77a56bfe4d3",
   "metadata": {
    "scrolled": true
   },
   "outputs": [
    {
     "name": "stdout",
     "output_type": "stream",
     "text": [
      "Collecting roboflow\n",
      "  Downloading roboflow-1.1.30-py3-none-any.whl (75 kB)\n",
      "\u001b[2K     \u001b[90m━━━━━━━━━━━━━━━━━━━━━━━━━━━━━━━━━━━━━━━\u001b[0m \u001b[32m75.5/75.5 KB\u001b[0m \u001b[31m981.7 kB/s\u001b[0m eta \u001b[36m0:00:00\u001b[0m \u001b[36m0:00:01\u001b[0m\n",
      "\u001b[?25hCollecting cycler==0.10.0\n",
      "  Downloading cycler-0.10.0-py2.py3-none-any.whl (6.5 kB)\n",
      "Collecting python-dotenv\n",
      "  Downloading python_dotenv-1.0.1-py3-none-any.whl (19 kB)\n",
      "Requirement already satisfied: tqdm>=4.41.0 in /usr/local/lib/python3.10/dist-packages (from roboflow) (4.66.4)\n",
      "Requirement already satisfied: urllib3>=1.26.6 in /usr/local/lib/python3.10/dist-packages (from roboflow) (2.2.1)\n",
      "Collecting idna==2.10\n",
      "  Downloading idna-2.10-py2.py3-none-any.whl (58 kB)\n",
      "\u001b[2K     \u001b[90m━━━━━━━━━━━━━━━━━━━━━━━━━━━━━━━━━━━━━━━━\u001b[0m \u001b[32m58.8/58.8 KB\u001b[0m \u001b[31m4.5 MB/s\u001b[0m eta \u001b[36m0:00:00\u001b[0m\n",
      "\u001b[?25hRequirement already satisfied: requests in /usr/local/lib/python3.10/dist-packages (from roboflow) (2.32.2)\n",
      "Requirement already satisfied: numpy>=1.18.5 in /usr/local/lib/python3.10/dist-packages (from roboflow) (1.26.3)\n",
      "Requirement already satisfied: six in /usr/local/lib/python3.10/dist-packages (from roboflow) (1.16.0)\n",
      "Requirement already satisfied: kiwisolver>=1.3.1 in /usr/local/lib/python3.10/dist-packages (from roboflow) (1.4.5)\n",
      "Collecting certifi==2023.7.22\n",
      "  Downloading certifi-2023.7.22-py3-none-any.whl (158 kB)\n",
      "\u001b[2K     \u001b[90m━━━━━━━━━━━━━━━━━━━━━━━━━━━━━━━━━━━━━━━\u001b[0m \u001b[32m158.3/158.3 KB\u001b[0m \u001b[31m2.9 MB/s\u001b[0m eta \u001b[36m0:00:00\u001b[0ma \u001b[36m0:00:01\u001b[0m\n",
      "\u001b[?25hRequirement already satisfied: Pillow>=7.1.2 in /usr/local/lib/python3.10/dist-packages (from roboflow) (10.2.0)\n",
      "Collecting requests-toolbelt\n",
      "  Downloading requests_toolbelt-1.0.0-py2.py3-none-any.whl (54 kB)\n",
      "\u001b[2K     \u001b[90m━━━━━━━━━━━━━━━━━━━━━━━━━━━━━━━━━━━━━━━━\u001b[0m \u001b[32m54.5/54.5 KB\u001b[0m \u001b[31m8.8 MB/s\u001b[0m eta \u001b[36m0:00:00\u001b[0m\n",
      "\u001b[?25hCollecting python-magic\n",
      "  Downloading python_magic-0.4.27-py2.py3-none-any.whl (13 kB)\n",
      "Collecting opencv-python-headless==4.8.0.74\n",
      "  Downloading opencv_python_headless-4.8.0.74-cp37-abi3-manylinux_2_17_x86_64.manylinux2014_x86_64.whl (49.1 MB)\n",
      "\u001b[2K     \u001b[90m━━━━━━━━━━━━━━━━━━━━━━━━━━━━━━━━━━━━━━━━\u001b[0m \u001b[32m49.1/49.1 MB\u001b[0m \u001b[31m53.9 MB/s\u001b[0m eta \u001b[36m0:00:00\u001b[0m00:01\u001b[0m00:01\u001b[0m\n",
      "\u001b[?25hRequirement already satisfied: matplotlib in /usr/local/lib/python3.10/dist-packages (from roboflow) (3.9.0)\n",
      "Requirement already satisfied: PyYAML>=5.3.1 in /usr/local/lib/python3.10/dist-packages (from roboflow) (6.0.1)\n",
      "Requirement already satisfied: python-dateutil in /usr/local/lib/python3.10/dist-packages (from roboflow) (2.9.0.post0)\n",
      "Collecting chardet==4.0.0\n",
      "  Downloading chardet-4.0.0-py2.py3-none-any.whl (178 kB)\n",
      "\u001b[2K     \u001b[90m━━━━━━━━━━━━━━━━━━━━━━━━━━━━━━━━━━━━━━\u001b[0m \u001b[32m178.7/178.7 KB\u001b[0m \u001b[31m45.2 MB/s\u001b[0m eta \u001b[36m0:00:00\u001b[0m\n",
      "\u001b[?25hRequirement already satisfied: pyparsing>=2.3.1 in /usr/local/lib/python3.10/dist-packages (from matplotlib->roboflow) (3.1.2)\n",
      "Requirement already satisfied: fonttools>=4.22.0 in /usr/local/lib/python3.10/dist-packages (from matplotlib->roboflow) (4.51.0)\n",
      "Requirement already satisfied: contourpy>=1.0.1 in /usr/local/lib/python3.10/dist-packages (from matplotlib->roboflow) (1.2.1)\n",
      "Requirement already satisfied: packaging>=20.0 in /usr/local/lib/python3.10/dist-packages (from matplotlib->roboflow) (24.0)\n",
      "Requirement already satisfied: charset-normalizer<4,>=2 in /usr/local/lib/python3.10/dist-packages (from requests->roboflow) (3.3.2)\n",
      "Installing collected packages: python-magic, python-dotenv, opencv-python-headless, idna, cycler, chardet, certifi, requests-toolbelt, roboflow\n",
      "  Attempting uninstall: idna\n",
      "    Found existing installation: idna 3.7\n",
      "    Uninstalling idna-3.7:\n",
      "      Successfully uninstalled idna-3.7\n",
      "  Attempting uninstall: cycler\n",
      "    Found existing installation: cycler 0.12.1\n",
      "    Uninstalling cycler-0.12.1:\n",
      "      Successfully uninstalled cycler-0.12.1\n",
      "  Attempting uninstall: certifi\n",
      "    Found existing installation: certifi 2024.2.2\n",
      "    Uninstalling certifi-2024.2.2:\n",
      "      Successfully uninstalled certifi-2024.2.2\n",
      "Successfully installed certifi-2023.7.22 chardet-4.0.0 cycler-0.10.0 idna-2.10 opencv-python-headless-4.8.0.74 python-dotenv-1.0.1 python-magic-0.4.27 requests-toolbelt-1.0.0 roboflow-1.1.30\n",
      "\u001b[33mWARNING: Running pip as the 'root' user can result in broken permissions and conflicting behaviour with the system package manager. It is recommended to use a virtual environment instead: https://pip.pypa.io/warnings/venv\u001b[0m\u001b[33m\n",
      "loading Roboflow workspace...\n",
      "loading Roboflow project...\n",
      "Exporting format coco-segmentation in progress : 85.0%\n",
      "Version export complete for coco-segmentation format\n"
     ]
    },
    {
     "name": "stderr",
     "output_type": "stream",
     "text": [
      "Downloading Dataset Version Zip in lapix-RoadObjSegmentation-v3-4 to coco-segmentation:: 100%|███████████████████████████████████████████████████████████████████████████| 237401/237401 [00:03<00:00, 67892.68it/s]"
     ]
    },
    {
     "name": "stdout",
     "output_type": "stream",
     "text": [
      "\n"
     ]
    },
    {
     "name": "stderr",
     "output_type": "stream",
     "text": [
      "\n",
      "Extracting Dataset Version Zip to lapix-RoadObjSegmentation-v3-4 in coco-segmentation:: 100%|████████████████████████████████████████████████████████████████████████████████████| 363/363 [00:00<00:00, 871.62it/s]\n"
     ]
    }
   ],
   "source": [
    "!pip install roboflow\n",
    "\n",
    "from roboflow import Roboflow\n",
    "\n",
    "API_KEY = \"Ef3g07dPh87XxgZy6Vbw\"\n",
    "rf = Roboflow(api_key=API_KEY)\n",
    "\n",
    "project = rf.workspace(\"ufsc-onwy0\").project(\"lapix-roadobjsegmentation-v3\")\n",
    "version = project.version(4)\n",
    "dataset = version.download(\"coco-segmentation\")"
   ]
  },
  {
   "cell_type": "code",
   "execution_count": 6,
   "id": "d5a28f8c-84a6-4c9d-8d52-fe48948e720f",
   "metadata": {},
   "outputs": [
    {
     "data": {
      "text/plain": [
       "{0: {'id': 0, 'name': 'road-objects-P0qE-Ts2j', 'supercategory': 'none'},\n",
       " 1: {'id': 1, 'name': 'Animals', 'supercategory': 'road-objects-P0qE-Ts2j'},\n",
       " 2: {'id': 2, 'name': 'Asphalt', 'supercategory': 'road-objects-P0qE-Ts2j'},\n",
       " 3: {'id': 3, 'name': 'Cat-s-Eye', 'supercategory': 'road-objects-P0qE-Ts2j'},\n",
       " 4: {'id': 4, 'name': 'Cracks', 'supercategory': 'road-objects-P0qE-Ts2j'},\n",
       " 5: {'id': 5, 'name': 'Ego', 'supercategory': 'road-objects-P0qE-Ts2j'},\n",
       " 6: {'id': 6, 'name': 'Hard-Sand', 'supercategory': 'road-objects-P0qE-Ts2j'},\n",
       " 7: {'id': 7, 'name': 'Markings', 'supercategory': 'road-objects-P0qE-Ts2j'},\n",
       " 8: {'id': 8, 'name': 'Obstacle', 'supercategory': 'road-objects-P0qE-Ts2j'},\n",
       " 9: {'id': 9, 'name': 'People', 'supercategory': 'road-objects-P0qE-Ts2j'},\n",
       " 10: {'id': 10, 'name': 'Pothole', 'supercategory': 'road-objects-P0qE-Ts2j'},\n",
       " 11: {'id': 11,\n",
       "  'name': 'Retaining-wall',\n",
       "  'supercategory': 'road-objects-P0qE-Ts2j'},\n",
       " 12: {'id': 12,\n",
       "  'name': 'Soft-Sand',\n",
       "  'supercategory': 'road-objects-P0qE-Ts2j'},\n",
       " 13: {'id': 13, 'name': 'Unpaved', 'supercategory': 'road-objects-P0qE-Ts2j'},\n",
       " 14: {'id': 14, 'name': 'Vehicles', 'supercategory': 'road-objects-P0qE-Ts2j'},\n",
       " 15: {'id': 15,\n",
       "  'name': 'Vertical-Signs',\n",
       "  'supercategory': 'road-objects-P0qE-Ts2j'},\n",
       " 16: {'id': 16, 'name': 'Wet-sand', 'supercategory': 'road-objects-P0qE-Ts2j'}}"
      ]
     },
     "execution_count": 6,
     "metadata": {},
     "output_type": "execute_result"
    }
   ],
   "source": [
    "cat_ids\n",
    "coco.cats"
   ]
  },
  {
   "cell_type": "code",
   "execution_count": 12,
   "id": "3c3d82cc-a266-43f8-894e-c81217892d7e",
   "metadata": {},
   "outputs": [
    {
     "data": {
      "text/plain": [
       "array([ 0,  1,  2,  3,  4,  5,  6,  7,  8,  9, 10, 11, 12, 13, 14,  0, 15])"
      ]
     },
     "execution_count": 12,
     "metadata": {},
     "output_type": "execute_result"
    }
   ],
   "source": [
    "mocamba_classes = np.arange(17)\n",
    "mocamba_classes[mocamba_classes == 15] = 0\n",
    "mocamba_classes[mocamba_classes > 15] -= 1\n",
    "mocamba_classes"
   ]
  },
  {
   "cell_type": "code",
   "execution_count": 15,
   "id": "34f386a0-427e-4757-8ae1-0643a46dfe13",
   "metadata": {},
   "outputs": [
    {
     "name": "stdout",
     "output_type": "stream",
     "text": [
      "loading annotations into memory...\n",
      "Done (t=0.03s)\n",
      "creating index...\n",
      "index created!\n",
      "[0, 1, 2, 3, 4, 5, 6, 7, 8, 9, 10, 11, 12, 13, 14, 15, 16]\n",
      "loading annotations into memory...\n",
      "Done (t=0.01s)\n",
      "creating index...\n",
      "index created!\n",
      "[0, 1, 2, 3, 4, 5, 6, 7, 8, 9, 10, 11, 12, 13, 14, 15, 16]\n"
     ]
    }
   ],
   "source": [
    "from pycocotools.coco import COCO\n",
    "\n",
    "cocofiles = [f'lapix-RoadObjSegmentation-v3-4/{setname}/_annotations.coco.json' for setname in ['train', 'test']]\n",
    "\n",
    "for cocofile in cocofiles:\n",
    "    dirbase = os.path.dirname(cocofile)\n",
    "    coco = COCO(cocofile)\n",
    "\n",
    "    processor = ut.CocoProcessor(coco)\n",
    "    cat_ids = coco.getCatIds()\n",
    "    print(cat_ids)\n",
    "    # break\n",
    "    \n",
    "    for ix in [*coco.imgs.keys()][:]:\n",
    "        bname = coco.imgs[ix]['file_name']\n",
    "        gt = processor.mask_from_cocoim(ix)\n",
    "        \n",
    "        p = os.path.join(dirbase, bname)\n",
    "        setname = p.split('/')[-2]\n",
    "        newp = os.path.join('ds-mocamba-v0.3.4', setname, 'im', os.path.basename(p))\n",
    "        ut.create_dirpath_ifneeded(newp)\n",
    "        shutil.copy(p, newp)\n",
    "        \n",
    "        newpgt = ut.get_gtpath(newp)\n",
    "        ut.create_dirpath_ifneeded(newpgt)\n",
    "        # remove vertical-sign class and re-index the other class\n",
    "        gt = mocamba_classes[gt]\n",
    "        cv2.imwrite(newpgt, gt)"
   ]
  },
  {
   "cell_type": "markdown",
   "id": "46dfc5d1-1ba3-49d7-96cb-d8fda66d3b74",
   "metadata": {},
   "source": [
    "# Resize images"
   ]
  },
  {
   "cell_type": "code",
   "execution_count": 16,
   "id": "79ccea25-d475-4059-955e-f740930fd8d3",
   "metadata": {},
   "outputs": [
    {
     "name": "stdout",
     "output_type": "stream",
     "text": [
      "357\n"
     ]
    }
   ],
   "source": [
    "fpaths = list(iglob('ds-mocamba-v0.3.4/**/*.jpg', recursive=True))\n",
    "print(len(fpaths))"
   ]
  },
  {
   "cell_type": "code",
   "execution_count": 20,
   "id": "4439dd37-f098-4e88-992b-b60e1637589a",
   "metadata": {},
   "outputs": [],
   "source": [
    "long = 512*3\n",
    "get_newpath = lambda p: p.replace('ds-mocamba-v0.3.4/', f'ds-mocamba-v0.3.4-long{long}/')\n",
    "\n",
    "for p in fpaths[:]:    \n",
    "    # if os.path.exists(newp):\n",
    "    #     continue\n",
    "    \n",
    "    im = cv2.imread(p, cv2.IMREAD_UNCHANGED)\n",
    "    newim = ut.resize_im(im, long=long)\n",
    "    newp = get_newpath(p)\n",
    "    ut.create_dirpath_ifneeded(newp)\n",
    "    cv2.imwrite(newp, newim)\n",
    "\n",
    "    pgt = ut.get_gtpath(p)\n",
    "    gt = cv2.imread(pgt, cv2.IMREAD_UNCHANGED)\n",
    "    newgt = ut.resize_im(gt, inter_nearest=True, long=long)\n",
    "    newpgt = get_newpath(pgt)\n",
    "    ut.create_dirpath_ifneeded(newpgt)\n",
    "    cv2.imwrite(newpgt, newgt)"
   ]
  },
  {
   "cell_type": "code",
   "execution_count": 21,
   "id": "79a9e8fc-3db2-41f0-bef4-43cdaa707ddb",
   "metadata": {},
   "outputs": [
    {
     "name": "stdout",
     "output_type": "stream",
     "text": [
      "ACABOU!\n"
     ]
    }
   ],
   "source": [
    "print(\"ACABOU!\")"
   ]
  },
  {
   "cell_type": "code",
   "execution_count": 21,
   "id": "902c1a5d-1268-421a-9230-8fb81e554e56",
   "metadata": {},
   "outputs": [
    {
     "name": "stdout",
     "output_type": "stream",
     "text": [
      "287\n"
     ]
    }
   ],
   "source": [
    "fpaths = list(iglob('/home/rafael/workspace/PX-Matting/notebooks/cache/rtk-mocamba-experiments/data/mocamba/ds-mocamba-v0.3-long1024/train/im/*'))\n",
    "print(len(fpaths))\n",
    "# fpaths += list(iglob('/home/rafael/workspace/PX-Matting/notebooks/cache/rtk-mocamba-experiments/data/RTK/RTK-v1.1-long704/val/im/*'))\n",
    "# print(len(fpaths))\n",
    "\n",
    "\n",
    "txt = '\\n'.join(fpaths) + '\\n'\n",
    "with open('/home/rafael/workspace/PX-Matting/notebooks/cache/rtk-mocamba-experiments/data/mocamba/ds-mocamba-v0.3-long1024/trainpaths.txt', 'w') as f:\n",
    "    f.write(txt)"
   ]
  },
  {
   "cell_type": "code",
   "execution_count": null,
   "id": "14234cfa-db15-44ec-937e-605bfe01e840",
   "metadata": {},
   "outputs": [],
   "source": []
  }
 ],
 "metadata": {
  "kernelspec": {
   "display_name": "Python 3 (ipykernel)",
   "language": "python",
   "name": "python3"
  },
  "language_info": {
   "codemirror_mode": {
    "name": "ipython",
    "version": 3
   },
   "file_extension": ".py",
   "mimetype": "text/x-python",
   "name": "python",
   "nbconvert_exporter": "python",
   "pygments_lexer": "ipython3",
   "version": "3.10.12"
  }
 },
 "nbformat": 4,
 "nbformat_minor": 5
}
